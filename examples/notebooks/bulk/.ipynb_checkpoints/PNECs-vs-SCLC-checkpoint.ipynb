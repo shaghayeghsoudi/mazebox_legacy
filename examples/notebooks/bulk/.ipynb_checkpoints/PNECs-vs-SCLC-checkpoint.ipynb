{
 "cells": [
  {
   "cell_type": "markdown",
   "id": "assured-hormone",
   "metadata": {},
   "source": [
    "# Comparing PNECs and SCLC archetypes"
   ]
  },
  {
   "cell_type": "markdown",
   "id": "spiritual-greene",
   "metadata": {},
   "source": [
    "PNECs are like generalists that complete many different tasks sub-optimally. If each tumor cell can specialize in a single PNEC task, overall the tumor’s “group phenotypic composition” is more fit than if each individual cell tried to do all tasks. Because these are cancer cells, they are also more plastic than normal differentiated cells and are therefore better able to trade off tasks to increase the fitness of the whole tumor when appropriate.\n",
    "\n",
    "1. Use GO terms corresponding to PNEC tasks to show that PNECs are marginally enriched in all of them, whereas different SCLC phenotypes are strongly enriched in a subset\n",
    "2. Can this explain why a more heterogeneous tumor can better respond to treatment?"
   ]
  },
  {
   "cell_type": "markdown",
   "id": "ceramic-determination",
   "metadata": {},
   "source": [
    "Do PNECs fall in an archetype space? Let's try to see if they DO have different tasks they optimize. If not, my guess is that its because they are doing multiple tasks (\"suboptimally\") until they acquire mutations that allow them to increase in fitness as cancer cells."
   ]
  },
  {
   "cell_type": "code",
   "execution_count": null,
   "id": "appropriate-ready",
   "metadata": {},
   "outputs": [],
   "source": []
  },
  {
   "cell_type": "code",
   "execution_count": null,
   "id": "center-symposium",
   "metadata": {},
   "outputs": [],
   "source": []
  },
  {
   "cell_type": "code",
   "execution_count": null,
   "id": "decimal-culture",
   "metadata": {},
   "outputs": [],
   "source": []
  }
 ],
 "metadata": {
  "kernelspec": {
   "display_name": "Python 3",
   "language": "python",
   "name": "python3"
  },
  "language_info": {
   "codemirror_mode": {
    "name": "ipython",
    "version": 3
   },
   "file_extension": ".py",
   "mimetype": "text/x-python",
   "name": "python",
   "nbconvert_exporter": "python",
   "pygments_lexer": "ipython3",
   "version": "3.7.6"
  }
 },
 "nbformat": 4,
 "nbformat_minor": 5
}
